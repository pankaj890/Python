{
 "cells": [
  {
   "cell_type": "markdown",
   "metadata": {},
   "source": [
    "## Method Resolution Order"
   ]
  },
  {
   "cell_type": "code",
   "execution_count": 1,
   "metadata": {},
   "outputs": [
    {
     "name": "stdout",
     "output_type": "stream",
     "text": [
      "B\n",
      "[<class '__main__.C'>, <class '__main__.B'>, <class '__main__.A'>, <class 'object'>]\n",
      "(<class '__main__.C'>, <class '__main__.B'>, <class '__main__.A'>, <class 'object'>)\n"
     ]
    }
   ],
   "source": [
    "class A:\n",
    "    def sam(self):\n",
    "        print('A')\n",
    "        \n",
    "class B(A):\n",
    "    def sam(self):\n",
    "        print('B')\n",
    "        \n",
    "class C(B):\n",
    "    pass\n",
    "\n",
    "a, b, c = A(), B(), C()\n",
    "\n",
    "C().sam()\n",
    "\n",
    "# Method Resolution Order\n",
    "print(C.mro())\n",
    "print(C.__mro__)"
   ]
  },
  {
   "cell_type": "markdown",
   "metadata": {},
   "source": [
    "## OrderedDict"
   ]
  },
  {
   "cell_type": "code",
   "execution_count": 2,
   "metadata": {},
   "outputs": [
    {
     "data": {
      "text/plain": [
       "collections.OrderedDict"
      ]
     },
     "execution_count": 2,
     "metadata": {},
     "output_type": "execute_result"
    }
   ],
   "source": [
    "from collections import OrderedDict\n",
    "\n",
    "o_dict = OrderedDict()\n",
    "o_dict['name'] = 'pankaj'\n",
    "o_dict['l_name'] = 'goyal'\n",
    "o_dict['nationality'] = 'indian'\n",
    "o_dict['age'] = '30'\n",
    "type(o_dict)"
   ]
  },
  {
   "cell_type": "markdown",
   "metadata": {},
   "source": [
    "## Collections --> Counter()"
   ]
  },
  {
   "cell_type": "code",
   "execution_count": 3,
   "metadata": {},
   "outputs": [
    {
     "data": {
      "text/plain": [
       "[('you', 5), ('a', 5)]"
      ]
     },
     "execution_count": 3,
     "metadata": {},
     "output_type": "execute_result"
    }
   ],
   "source": [
    "strng = 'This may sound like an easy job if you have a collection based on a list. You just loop over all of the elements. But how do you sequentially traverse elements of a complex data structure, such as a tree? For example, one day you might be just fine with depth-first traversal of a tree. Yet the next day you might require breadth-first traversal. And the next week, you might need something else, like random access to the tree elements'\n",
    "l = strng.split()\n",
    "\n",
    "from collections import Counter\n",
    "\n",
    "# Word Count / Element Count / Character Count (for string)\n",
    "cnt = Counter(l)\n",
    "\n",
    "# Top 2 words\n",
    "cnt.most_common()[:2]"
   ]
  },
  {
   "cell_type": "markdown",
   "metadata": {},
   "source": [
    "## Iterable and Generator"
   ]
  },
  {
   "cell_type": "code",
   "execution_count": 4,
   "metadata": {},
   "outputs": [
    {
     "name": "stdout",
     "output_type": "stream",
     "text": [
      "<class 'list_iterator'>\n",
      "2\n"
     ]
    }
   ],
   "source": [
    "# Create Iterators\n",
    "\n",
    "favorite_numbers = [2,4,6,8]\n",
    "\n",
    "itrtr = iter(favorite_numbers)     # Creates Iterator over the List which itself is iterable\n",
    "print(type(itrtr))\n",
    "print(next(itrtr))"
   ]
  },
  {
   "cell_type": "code",
   "execution_count": 5,
   "metadata": {},
   "outputs": [
    {
     "name": "stdout",
     "output_type": "stream",
     "text": [
      "<class 'generator'>\n",
      "4\n",
      "<class 'generator'>\n",
      "4\n"
     ]
    }
   ],
   "source": [
    "# Create Generators\n",
    "\n",
    "favorite_numbers = [2,4,6,8]\n",
    "\n",
    "#----------------------------------------------------\n",
    "# Method 1\n",
    "#----------------------------------------------------\n",
    "squares = (n**2 for n in favorite_numbers)\n",
    "print(type(squares))\n",
    "print(next(squares))\n",
    "\n",
    "\n",
    "#----------------------------------------------------\n",
    "# Method 2\n",
    "#----------------------------------------------------\n",
    "def gen():\n",
    "    for n in favorite_numbers:\n",
    "        yield n**2\n",
    "        \n",
    "g = gen()\n",
    "print(type(g))\n",
    "print(next(g))"
   ]
  }
 ],
 "metadata": {
  "kernelspec": {
   "display_name": "Python 3",
   "language": "python",
   "name": "python3"
  },
  "language_info": {
   "codemirror_mode": {
    "name": "ipython",
    "version": 3
   },
   "file_extension": ".py",
   "mimetype": "text/x-python",
   "name": "python",
   "nbconvert_exporter": "python",
   "pygments_lexer": "ipython3",
   "version": "3.6.6"
  }
 },
 "nbformat": 4,
 "nbformat_minor": 1
}
