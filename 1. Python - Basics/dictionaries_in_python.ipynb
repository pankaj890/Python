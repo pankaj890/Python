{
 "cells": [
  {
   "cell_type": "markdown",
   "metadata": {},
   "source": [
    "# Dictionaries "
   ]
  },
  {
   "cell_type": "code",
   "execution_count": 5,
   "metadata": {},
   "outputs": [],
   "source": [
    "# {key:value}\n",
    "# dictionary = {}\n",
    "# dictionary = dict({})"
   ]
  },
  {
   "cell_type": "code",
   "execution_count": 7,
   "metadata": {},
   "outputs": [],
   "source": [
    "my_dict1 = {}\n",
    "my_dict2 = {1:'Apple',2:'Ball'}\n",
    "my_dict3 = {'name':'John',1:[2,3,4]}     # Mixed Keys\n",
    "my_dict4 = dict({1:'Apple',2:'Ball'})\n",
    "my_dict5 = dict([(1,'Apple'),(2,'Ball')])"
   ]
  },
  {
   "cell_type": "code",
   "execution_count": 12,
   "metadata": {},
   "outputs": [
    {
     "name": "stdout",
     "output_type": "stream",
     "text": [
      "Apple\n",
      "Apple\n"
     ]
    }
   ],
   "source": [
    "# Get Method\n",
    "\n",
    "print(my_dict2[1])\n",
    "print(my_dict2.get(1))       # If there are multiple matches, returs the updated or latest one\n",
    "\n",
    "my_dict2.get('Address')      # Returns nothing because the key is not present\n",
    "my_dict2['Address']          # Without Get function, it throws an error when key is absent"
   ]
  },
  {
   "cell_type": "code",
   "execution_count": 19,
   "metadata": {},
   "outputs": [
    {
     "name": "stdout",
     "output_type": "stream",
     "text": [
      "50\n",
      "27\n",
      "{'name': 'jack', 'age': 27, 'Adrress': 'Downtown'}\n"
     ]
    }
   ],
   "source": [
    "my_dict6 = {'name':'jack','age':26,'age':50}\n",
    "print(my_dict6['age'])\n",
    "\n",
    "# Update\n",
    "my_dict6['age'] = 27\n",
    "print(my_dict6['age'])\n",
    "\n",
    "# Add new element\n",
    "my_dict6['Adrress'] = 'Downtown'\n",
    "print(my_dict6)"
   ]
  },
  {
   "cell_type": "code",
   "execution_count": 21,
   "metadata": {},
   "outputs": [
    {
     "name": "stdout",
     "output_type": "stream",
     "text": [
      "16\n",
      "(5, 25)\n"
     ]
    }
   ],
   "source": [
    "squares = {1:1,2:4,3:9,4:16,5:25}\n",
    "\n",
    "print(squares.pop(4))         # Pops the item key = 4\n",
    "print(squares.popitem())      # Pops the last item"
   ]
  },
  {
   "cell_type": "code",
   "execution_count": 22,
   "metadata": {},
   "outputs": [],
   "source": [
    "# Delete and Clears a dictionary\n",
    "\n",
    "squares.clear()               # Empties the dictionary\n",
    "del squares                   # Deletes the dictionary, removed from the memory"
   ]
  },
  {
   "cell_type": "code",
   "execution_count": 34,
   "metadata": {},
   "outputs": [
    {
     "name": "stdout",
     "output_type": "stream",
     "text": [
      "IBM : 100\n",
      "MSFT : 150\n",
      "CSCO : 200\n",
      "('IBM', 100)\n",
      "('MSFT', 150)\n",
      "('CSCO', 200)\n",
      "100\n",
      "150\n",
      "200\n",
      "100\n",
      "150\n",
      "200\n",
      "IBM\n",
      "MSFT\n",
      "CSCO\n"
     ]
    }
   ],
   "source": [
    "# For Loop in dictionary\n",
    "\n",
    "stocks = {\n",
    "    'IBM':100,\n",
    "    'MSFT':150,\n",
    "    'CSCO':200\n",
    "}\n",
    "\n",
    "for c in stocks:              # Retrieve the key in c\n",
    "    print(c,\":\",stocks[c])\n",
    "    \n",
    "for item in stocks.items():   # Retrieve the key-value in item as tuple\n",
    "    print(item)\n",
    "    \n",
    "for k,v in stocks.items():    # Retrieve the key-value in k,v\n",
    "    print(v)\n",
    "    \n",
    "for v in stocks.values():    # Retrieve the value in v\n",
    "    print(v)\n",
    "    \n",
    "for k in stocks.keys():    # Retrieve the keys in k\n",
    "    print(k)"
   ]
  },
  {
   "cell_type": "code",
   "execution_count": 32,
   "metadata": {},
   "outputs": [
    {
     "name": "stdout",
     "output_type": "stream",
     "text": [
      "pankaj\n"
     ]
    }
   ],
   "source": [
    "# Nested\n",
    "\n",
    "users = {\n",
    "    'user1':{'age':29,'name':'pankaj'},\n",
    "    'user2':{'age':27,'name':'suruchi'}\n",
    "}\n",
    "\n",
    "print(users['user1']['name'])"
   ]
  },
  {
   "cell_type": "code",
   "execution_count": null,
   "metadata": {},
   "outputs": [],
   "source": []
  }
 ],
 "metadata": {
  "kernelspec": {
   "display_name": "Python 3",
   "language": "python",
   "name": "python3"
  },
  "language_info": {
   "codemirror_mode": {
    "name": "ipython",
    "version": 3
   },
   "file_extension": ".py",
   "mimetype": "text/x-python",
   "name": "python",
   "nbconvert_exporter": "python",
   "pygments_lexer": "ipython3",
   "version": "3.7.3"
  }
 },
 "nbformat": 4,
 "nbformat_minor": 2
}
