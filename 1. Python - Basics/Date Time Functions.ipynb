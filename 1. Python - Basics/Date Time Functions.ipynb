{
 "cells": [
  {
   "cell_type": "markdown",
   "metadata": {},
   "source": [
    "## Date"
   ]
  },
  {
   "cell_type": "code",
   "execution_count": 1,
   "metadata": {},
   "outputs": [],
   "source": [
    "from datetime import date"
   ]
  },
  {
   "cell_type": "code",
   "execution_count": 6,
   "metadata": {},
   "outputs": [
    {
     "name": "stdout",
     "output_type": "stream",
     "text": [
      "Today's date is :  2019-08-11\n",
      "Date Components :  11 8 2019\n",
      "Today's Weekday Number :  6\n"
     ]
    }
   ],
   "source": [
    "today = date.today()\n",
    "\n",
    "print(\"Today's date is : \", today)\n",
    "print(\"Date Components : \", today.day, today.month, today.year)\n",
    "print(\"Today's Weekday Number : \", today.weekday())"
   ]
  },
  {
   "cell_type": "markdown",
   "metadata": {},
   "source": [
    "## Datetime"
   ]
  },
  {
   "cell_type": "code",
   "execution_count": 7,
   "metadata": {},
   "outputs": [],
   "source": [
    "from datetime import datetime"
   ]
  },
  {
   "cell_type": "code",
   "execution_count": 12,
   "metadata": {},
   "outputs": [
    {
     "name": "stdout",
     "output_type": "stream",
     "text": [
      "Current Date-Time :  2019-08-11 18:22:40.377712\n",
      "Current Time      :  18:22:40.377712\n",
      "Current Date      :  2019-08-11\n"
     ]
    }
   ],
   "source": [
    "current_timestamp = datetime.now()\n",
    "\n",
    "print('Current Date-Time : ', current_timestamp)\n",
    "print('Current Time      : ', current_timestamp.time())\n",
    "print('Current Date      : ', current_timestamp.date())"
   ]
  },
  {
   "cell_type": "markdown",
   "metadata": {},
   "source": [
    "## Strf Function"
   ]
  },
  {
   "cell_type": "code",
   "execution_count": 22,
   "metadata": {},
   "outputs": [
    {
     "name": "stdout",
     "output_type": "stream",
     "text": [
      "Sun, 11 Aug, 19\n",
      "Sunday, 11 August, 2019\n"
     ]
    }
   ],
   "source": [
    "now = datetime.now()\n",
    "print(now.strftime('%a, %d %b, %y'))\n",
    "print(now.strftime('%A, %d %B, %Y'))"
   ]
  },
  {
   "cell_type": "code",
   "execution_count": 25,
   "metadata": {},
   "outputs": [
    {
     "name": "stdout",
     "output_type": "stream",
     "text": [
      "Sun Aug 11 18:27:15 2019\n",
      "08/11/19\n",
      "18:27:15\n"
     ]
    }
   ],
   "source": [
    "# Local timezone format\n",
    "print(now.strftime('%c'))\n",
    "print(now.strftime('%x'))\n",
    "print(now.strftime('%X'))"
   ]
  },
  {
   "cell_type": "code",
   "execution_count": 32,
   "metadata": {},
   "outputs": [
    {
     "name": "stdout",
     "output_type": "stream",
     "text": [
      "06:27:15 PM\n",
      "18:27:15 PM\n"
     ]
    }
   ],
   "source": [
    "print(now.strftime('%I:%M:%S %p'))       # 12 - Hour Format\n",
    "print(now.strftime('%H:%M:%S %p'))       # 24 - Hour Format"
   ]
  },
  {
   "cell_type": "markdown",
   "metadata": {},
   "source": [
    "## Time Delta"
   ]
  },
  {
   "cell_type": "code",
   "execution_count": 33,
   "metadata": {},
   "outputs": [],
   "source": [
    "from datetime import timedelta"
   ]
  },
  {
   "cell_type": "code",
   "execution_count": 45,
   "metadata": {},
   "outputs": [
    {
     "name": "stdout",
     "output_type": "stream",
     "text": [
      "2019-08-11 18:37:33.468453\n",
      "2019-08-14 18:37:33.472502\n",
      "2019-08-11 18:47:33.472502\n",
      "2019-09-01 18:37:33.472502\n",
      "2019-08-18 18:52:33.472502\n"
     ]
    }
   ],
   "source": [
    "print(datetime.now())\n",
    "\n",
    "print(datetime.now() + timedelta(days = 3))                   # Adds 3 days\n",
    "print(datetime.now() + timedelta(minutes = 10))               # Adds 10 Minutes\n",
    "print(datetime.now() + timedelta(weeks = 3))                  # Adds 3 weeks\n",
    "print(datetime.now() + timedelta(weeks = 1, minutes = 15))    # Adds 1 week and 15 minutes"
   ]
  },
  {
   "cell_type": "code",
   "execution_count": null,
   "metadata": {},
   "outputs": [],
   "source": []
  }
 ],
 "metadata": {
  "kernelspec": {
   "display_name": "Python 3",
   "language": "python",
   "name": "python3"
  },
  "language_info": {
   "codemirror_mode": {
    "name": "ipython",
    "version": 3
   },
   "file_extension": ".py",
   "mimetype": "text/x-python",
   "name": "python",
   "nbconvert_exporter": "python",
   "pygments_lexer": "ipython3",
   "version": "3.7.3"
  }
 },
 "nbformat": 4,
 "nbformat_minor": 2
}
