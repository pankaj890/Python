{
 "cells": [
  {
   "cell_type": "markdown",
   "metadata": {},
   "source": [
    "### Comprehensions and Functions in Python"
   ]
  },
  {
   "cell_type": "markdown",
   "metadata": {},
   "source": [
    "#### LIST Comprehensions"
   ]
  },
  {
   "cell_type": "code",
   "execution_count": 15,
   "metadata": {},
   "outputs": [],
   "source": [
    "#     output_list = [out_expression for var in input_list if (var satisfies this condition)]"
   ]
  },
  {
   "cell_type": "code",
   "execution_count": 16,
   "metadata": {},
   "outputs": [
    {
     "name": "stdout",
     "output_type": "stream",
     "text": [
      "[3, 6, 9]\n",
      "[3, 6]\n"
     ]
    }
   ],
   "source": [
    "list1 = [1,2,3]\n",
    "\n",
    "list_comprehension1 = [item*3 for item in list1]        # Output -   [1*3, 2*3, 3*3]\n",
    "print(list_comprehension1)\n",
    "\n",
    "list_comprehension2 = [item*3 for item in list1 if item < 3]        # Output -   [1*3, 2*3, 3*3]\n",
    "print(list_comprehension2)"
   ]
  },
  {
   "cell_type": "markdown",
   "metadata": {},
   "source": [
    "#### Dictionary and Set Comprehensions"
   ]
  },
  {
   "cell_type": "code",
   "execution_count": 17,
   "metadata": {},
   "outputs": [],
   "source": [
    "#     out_dict = {key:value for (key, value) in iterable if (key, value satisfy this condition)}"
   ]
  },
  {
   "cell_type": "code",
   "execution_count": 23,
   "metadata": {},
   "outputs": [
    {
     "name": "stdout",
     "output_type": "stream",
     "text": [
      "All Keys: {1: 10, 2: 20, 3: 30, 4: 40, 5: 50, 6: 60}\n",
      "Even Keys {2: 20, 4: 40, 6: 60}\n",
      "Set :  {40, 10, 50, 20, 60, 30}\n"
     ]
    }
   ],
   "source": [
    "# Dictionary\n",
    "\n",
    "in_list = [1,2,3,4,5,6]\n",
    "\n",
    "out_dict_1 = {item:item*10 for item in in_list}\n",
    "print('All Keys:', out_dict_1)\n",
    "\n",
    "out_dict_2 = {item:item*10 for item in in_list if item%2 == 0}\n",
    "print('Even Keys', out_dict_2)\n",
    "\n",
    "# Set\n",
    "out_set = {item*10 for item in in_list}\n",
    "print('Set : ', out_set)"
   ]
  },
  {
   "cell_type": "markdown",
   "metadata": {},
   "source": [
    "#### Generator Comprehension"
   ]
  },
  {
   "cell_type": "code",
   "execution_count": 49,
   "metadata": {},
   "outputs": [
    {
     "name": "stdout",
     "output_type": "stream",
     "text": [
      "<class 'generator'>\n",
      "10\n",
      "20\n",
      "30\n",
      "40\n",
      "50\n",
      "60\n"
     ]
    }
   ],
   "source": [
    "in_list = [1,2,3,4,5,6]\n",
    "\n",
    "gen_comp = (item*10 for item in in_list)\n",
    "\n",
    "print(type(gen_comp))                   # generator type\n",
    "\n",
    "for i in gen_comp:\n",
    "    print(i)"
   ]
  },
  {
   "cell_type": "markdown",
   "metadata": {},
   "source": [
    "### User Defined Functions"
   ]
  },
  {
   "cell_type": "code",
   "execution_count": 6,
   "metadata": {},
   "outputs": [],
   "source": [
    "def sample_function():\n",
    "    \"\"\"\n",
    "    This is DOCSTRING: It will be printed when we execute help(function_name)\n",
    "    Sample Function\n",
    "    \"\"\"\n",
    "    print('pankaj')"
   ]
  },
  {
   "cell_type": "code",
   "execution_count": 3,
   "metadata": {},
   "outputs": [
    {
     "name": "stdout",
     "output_type": "stream",
     "text": [
      "Help on function sample_function in module __main__:\n",
      "\n",
      "sample_function()\n",
      "    This is DOXSTRING:\n",
      "    Sample Function\n",
      "\n"
     ]
    }
   ],
   "source": [
    "help(sample_function)"
   ]
  },
  {
   "cell_type": "markdown",
   "metadata": {},
   "source": [
    "#### StringFunction"
   ]
  },
  {
   "cell_type": "code",
   "execution_count": 13,
   "metadata": {},
   "outputs": [
    {
     "name": "stdout",
     "output_type": "stream",
     "text": [
      "['Pankaj', 'Goyal']\n"
     ]
    }
   ],
   "source": [
    "# String Splitting - split()\n",
    "def split_func(text):\n",
    "    list_split = text.split(',')                  # Split function returns a list\n",
    "    print(list_split)\n",
    "    \n",
    "split_func('Pankaj,Goyal')"
   ]
  },
  {
   "cell_type": "code",
   "execution_count": 24,
   "metadata": {},
   "outputs": [
    {
     "name": "stdout",
     "output_type": "stream",
     "text": [
      "('PANKAJ GOYAL', 'pankaj goyal')\n"
     ]
    }
   ],
   "source": [
    "# Change case of string - lower to upper and vice-versa\n",
    "def case_convert(text):\n",
    "    upper = text.upper()\n",
    "    lower = text.lower()\n",
    "    \n",
    "    return upper, lower\n",
    "\n",
    "print(case_convert('Pankaj Goyal'))"
   ]
  },
  {
   "cell_type": "markdown",
   "metadata": {},
   "source": [
    "### Python Inbuilt Functions"
   ]
  },
  {
   "cell_type": "markdown",
   "metadata": {},
   "source": [
    "#### MAP Function"
   ]
  },
  {
   "cell_type": "code",
   "execution_count": 53,
   "metadata": {},
   "outputs": [
    {
     "data": {
      "text/plain": [
       "[1, 4, 9, 16, 25]"
      ]
     },
     "execution_count": 53,
     "metadata": {},
     "output_type": "execute_result"
    }
   ],
   "source": [
    "# map() is more efficient than for loop\n",
    "\n",
    "list_1 = [1,2,3,4,5]\n",
    "\n",
    "def square_num(num):\n",
    "    return num**2\n",
    "list(map(square_num,list_1))        # applying function on a set of values and return each value"
   ]
  },
  {
   "cell_type": "code",
   "execution_count": 57,
   "metadata": {},
   "outputs": [
    {
     "data": {
      "text/plain": [
       "[2, 4]"
      ]
     },
     "execution_count": 57,
     "metadata": {},
     "output_type": "execute_result"
    }
   ],
   "source": [
    "# filter()\n",
    "\n",
    "list_1 = [1,2,3,4,5]\n",
    "\n",
    "def even(num):\n",
    "    return num%2 == 0\n",
    "\n",
    "list(filter(even,list_1))           # filter out the value - here it returning only even values"
   ]
  },
  {
   "cell_type": "code",
   "execution_count": 81,
   "metadata": {},
   "outputs": [
    {
     "name": "stdout",
     "output_type": "stream",
     "text": [
      "Square :  16\n",
      "Result :  [0, 2, 6, 12, 20, 30]\n",
      "Result_Tup :  [1, 4, 9]\n",
      "Player Initials :  ['p', 'r', 'p']\n",
      "Lambda with Filter :  [2, 4, 6]\n"
     ]
    }
   ],
   "source": [
    "# Lambda Function - Anonymous function - No need to write def here\n",
    "# Below code is equivalent to:\n",
    "\"\"\"\n",
    "    def square(num):\n",
    "        return num**2\n",
    "\"\"\"\n",
    "square = lambda num: num**2         # use variable names here like 'num'\n",
    "\n",
    "\n",
    "\n",
    "# Lambda with map function - similar to INLINE PERFORM in COBOL\n",
    "# We provide evry value in list/tuple to the lambda function using map function\n",
    "\n",
    "my_list_lambda = [1,2,3,4,5,6]\n",
    "map_lambda = list(map(lambda list_num : (list_num) * (list_num -1), my_list_lambda))\n",
    "\n",
    "my_tup = (1,2,3)\n",
    "map_lambda_tup = list(map(lambda num : num**2,my_tup))\n",
    "\n",
    "player_name = ['pankaj', 'ravi', 'pragnesh']\n",
    "map_lambda_list = list(map(lambda name : name[0],player_name))\n",
    "\n",
    "\n",
    "# Lambda with map function\n",
    "filter_lambda = list(filter(lambda num : num%2 == 0, my_list_lambda))\n",
    "\n",
    "print('Square : ', square(4))\n",
    "print('Result : ', map_lambda)\n",
    "print('Result_Tup : ', map_lambda_tup)\n",
    "print('Player Initials : ', map_lambda_list)\n",
    "print('Lambda with Filter : ', filter_lambda)"
   ]
  },
  {
   "cell_type": "markdown",
   "metadata": {},
   "source": [
    "#### Enumerate Function"
   ]
  },
  {
   "cell_type": "code",
   "execution_count": 82,
   "metadata": {},
   "outputs": [
    {
     "name": "stdout",
     "output_type": "stream",
     "text": [
      "0 pankaj\n",
      "1 suruchi\n"
     ]
    }
   ],
   "source": [
    "list_enum = ['pankaj','suruchi']\n",
    "\n",
    "for position, item in enumerate(list_enum):\n",
    "    print(position, end = ' ')\n",
    "    print(item)\n",
    "    \n"
   ]
  },
  {
   "cell_type": "code",
   "execution_count": 92,
   "metadata": {},
   "outputs": [
    {
     "data": {
      "text/plain": [
       "{(0, 'pankaj'), (1, 'suruchi')}"
      ]
     },
     "execution_count": 92,
     "metadata": {},
     "output_type": "execute_result"
    }
   ],
   "source": [
    "# Comprehension\n",
    "\n",
    "dict((position, item) for position, item in enumerate(list_enum))    # Same as below\n",
    "{(position, item) for position, item in enumerate(list_enum)}"
   ]
  },
  {
   "cell_type": "code",
   "execution_count": 89,
   "metadata": {},
   "outputs": [
    {
     "data": {
      "text/plain": [
       "[('India', 10), ('England', 18)]"
      ]
     },
     "execution_count": 89,
     "metadata": {},
     "output_type": "execute_result"
    }
   ],
   "source": [
    "# zip function\n",
    "\n",
    "team = ['India','England']\n",
    "win_count = [10,18,20]\n",
    "\n",
    "total = zip(team,win_count)                # Returns Tuple with team and win, if list size mismatch then ignore extra ones\n",
    "list(total)"
   ]
  },
  {
   "cell_type": "code",
   "execution_count": 94,
   "metadata": {},
   "outputs": [
    {
     "data": {
      "text/plain": [
       "[0, 2, 4, 6, 8]"
      ]
     },
     "execution_count": 94,
     "metadata": {},
     "output_type": "execute_result"
    }
   ],
   "source": [
    "# range funtion   -   range(start_val,end_val,step)   - end_val will be excluded\n",
    "\n",
    "[i for i in range(0,10,2)]"
   ]
  },
  {
   "cell_type": "code",
   "execution_count": null,
   "metadata": {},
   "outputs": [],
   "source": []
  }
 ],
 "metadata": {
  "kernelspec": {
   "display_name": "Python 3",
   "language": "python",
   "name": "python3"
  },
  "language_info": {
   "codemirror_mode": {
    "name": "ipython",
    "version": 3
   },
   "file_extension": ".py",
   "mimetype": "text/x-python",
   "name": "python",
   "nbconvert_exporter": "python",
   "pygments_lexer": "ipython3",
   "version": "3.7.3"
  }
 },
 "nbformat": 4,
 "nbformat_minor": 2
}
