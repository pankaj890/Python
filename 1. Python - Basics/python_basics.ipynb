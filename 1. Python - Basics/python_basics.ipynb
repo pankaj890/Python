{
 "cells": [
  {
   "cell_type": "markdown",
   "metadata": {},
   "source": [
    "# Arithmatic Operators in Python"
   ]
  },
  {
   "cell_type": "code",
   "execution_count": 47,
   "metadata": {},
   "outputs": [
    {
     "data": {
      "text/plain": [
       "' \\n        +  - Sum\\n        *  - Multiply \\n        /  - Division\\n        // - Interger \\n        %  - Modulus\\n        ** - Exponential\\n'"
      ]
     },
     "execution_count": 47,
     "metadata": {},
     "output_type": "execute_result"
    }
   ],
   "source": [
    "\"\"\" \n",
    "        +  - Sum\n",
    "        *  - Multiply \n",
    "        /  - Division\n",
    "        // - Interger \n",
    "        %  - Modulus\n",
    "        ** - Exponential\n",
    "\"\"\""
   ]
  },
  {
   "cell_type": "code",
   "execution_count": 48,
   "metadata": {
    "scrolled": true
   },
   "outputs": [
    {
     "data": {
      "text/plain": [
       "2.5"
      ]
     },
     "execution_count": 48,
     "metadata": {},
     "output_type": "execute_result"
    }
   ],
   "source": [
    "5/2"
   ]
  },
  {
   "cell_type": "markdown",
   "metadata": {},
   "source": [
    "# Data Types in Python"
   ]
  },
  {
   "cell_type": "code",
   "execution_count": 49,
   "metadata": {},
   "outputs": [
    {
     "data": {
      "text/plain": [
       "'\\n    Number\\n    String\\n    List\\n    Tuple\\n    Dictionary\\n    Boolean\\n'"
      ]
     },
     "execution_count": 49,
     "metadata": {},
     "output_type": "execute_result"
    }
   ],
   "source": [
    "\"\"\"\n",
    "    Immutable - Numbers, String, Tuple, Boolean\n",
    "    Mutable   - Lists, Dictionaries, Sets\n",
    "\"\"\""
   ]
  },
  {
   "cell_type": "markdown",
   "metadata": {},
   "source": [
    "### String Data Type"
   ]
  },
  {
   "cell_type": "code",
   "execution_count": 27,
   "metadata": {},
   "outputs": [
    {
     "name": "stdout",
     "output_type": "stream",
     "text": [
      "Pankaj\n",
      "bankaj\n"
     ]
    },
    {
     "data": {
      "text/plain": [
       "'n'"
      ]
     },
     "execution_count": 27,
     "metadata": {},
     "output_type": "execute_result"
    }
   ],
   "source": [
    "# Selective Indexing\n",
    "# str[start:end]    - start inclusive and end exclusive\n",
    "\n",
    "str1 = \"Pankaj\"\n",
    "print(str1[0:5])\n",
    "print(str1[2:])\n",
    "print(str1[:2])\n",
    "print(str1[:-1])\n",
    "\n",
    "type(str1)\n",
    "\n",
    "# Find\n",
    "str1.find('a')\n",
    "\n",
    "# Replace\n",
    "print(str1)\n",
    "print(str1.replace('P','b'))\n",
    "\n",
    "# Split\n",
    "split_str = 'word1, word2, word3'\n",
    "split_str.split(',')\n",
    "\n",
    "# Count\n",
    "str_count = 'Pankaj'\n",
    "str_count.count('k')\n",
    "\n",
    "# Case conversion\n",
    "str_count.upper()\n",
    "\n",
    "# Min and Max\n",
    "min(str_count)\n",
    "max(str_count)"
   ]
  },
  {
   "cell_type": "markdown",
   "metadata": {},
   "source": [
    "### List Data Type"
   ]
  },
  {
   "cell_type": "code",
   "execution_count": null,
   "metadata": {},
   "outputs": [],
   "source": []
  },
  {
   "cell_type": "markdown",
   "metadata": {},
   "source": [
    "### Tuple Data Type"
   ]
  },
  {
   "cell_type": "code",
   "execution_count": 44,
   "metadata": {},
   "outputs": [
    {
     "name": "stdout",
     "output_type": "stream",
     "text": [
      "('a', 'b', 'c', 'd', 'e', 'f', 'g', 'h', 1, 2, 3)\n"
     ]
    },
    {
     "data": {
      "text/plain": [
       "('b', 'c', 'd', 'e', 'f')"
      ]
     },
     "execution_count": 44,
     "metadata": {},
     "output_type": "execute_result"
    }
   ],
   "source": [
    "my_tuple = 'a','b','c','d','e'\n",
    "my_tuple1 = ('f','g','h',1,2,3)                # Tuples are heterogenous whereas Lists are homogenous\n",
    "\n",
    "# Concatenation\n",
    "my_tuple += my_tuple1\n",
    "print(my_tuple)\n",
    "\n",
    "# Repetation\n",
    "my_tuple * 2\n",
    "\n",
    "# Indexing\n",
    "my_tuple[2]\n",
    "\n",
    "# Slicing\n",
    "my_tuple[1:6]"
   ]
  }
 ],
 "metadata": {
  "kernelspec": {
   "display_name": "Python 3",
   "language": "python",
   "name": "python3"
  },
  "language_info": {
   "codemirror_mode": {
    "name": "ipython",
    "version": 3
   },
   "file_extension": ".py",
   "mimetype": "text/x-python",
   "name": "python",
   "nbconvert_exporter": "python",
   "pygments_lexer": "ipython3",
   "version": "3.7.3"
  }
 },
 "nbformat": 4,
 "nbformat_minor": 2
}
