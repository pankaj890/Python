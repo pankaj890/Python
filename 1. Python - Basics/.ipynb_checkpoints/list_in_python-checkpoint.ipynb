{
 "cells": [
  {
   "cell_type": "code",
   "execution_count": 1,
   "metadata": {},
   "outputs": [],
   "source": [
    "list1 = ['a','b','c']\n",
    "list2 = [1,2,3]"
   ]
  },
  {
   "cell_type": "code",
   "execution_count": 2,
   "metadata": {},
   "outputs": [],
   "source": [
    "# Append\n",
    "list1.append('d')"
   ]
  },
  {
   "cell_type": "code",
   "execution_count": 4,
   "metadata": {},
   "outputs": [],
   "source": [
    "# Extend\n",
    "list2.extend([4,5,6])"
   ]
  },
  {
   "cell_type": "code",
   "execution_count": 5,
   "metadata": {},
   "outputs": [],
   "source": [
    "# Concatenation\n",
    "list3 = list1 + list2"
   ]
  },
  {
   "cell_type": "code",
   "execution_count": 7,
   "metadata": {},
   "outputs": [
    {
     "name": "stdout",
     "output_type": "stream",
     "text": [
      "Appended List -  ['a', 'b', 'c', 'd']\n",
      "Extended List -  [1, 2, 3, 4, 5, 6]\n",
      "Concatenated Lists -  ['a', 'b', 'c', 'd', 1, 2, 3, 4, 5, 6]\n"
     ]
    }
   ],
   "source": [
    "print('Appended List - ',list1)\n",
    "print('Extended List - ',list2)\n",
    "print('Concatenated Lists - ',list3)"
   ]
  },
  {
   "cell_type": "code",
   "execution_count": 12,
   "metadata": {},
   "outputs": [
    {
     "name": "stdout",
     "output_type": "stream",
     "text": [
      "a\n"
     ]
    }
   ],
   "source": [
    "print(list3[0])             # Fetch first element"
   ]
  },
  {
   "cell_type": "code",
   "execution_count": 13,
   "metadata": {},
   "outputs": [
    {
     "name": "stdout",
     "output_type": "stream",
     "text": [
      "6\n"
     ]
    }
   ],
   "source": [
    "print(list3[-1])            # Fetch last element"
   ]
  },
  {
   "cell_type": "code",
   "execution_count": 15,
   "metadata": {},
   "outputs": [
    {
     "name": "stdout",
     "output_type": "stream",
     "text": [
      "['a', 'b', 'c', 'd', 1, 2, 3, 4, 5, 6]\n"
     ]
    }
   ],
   "source": [
    "print(list3[:])"
   ]
  },
  {
   "cell_type": "code",
   "execution_count": 21,
   "metadata": {},
   "outputs": [
    {
     "name": "stdout",
     "output_type": "stream",
     "text": [
      "None\n",
      "-------------\n",
      "['a', 'b', 'c', 'd']\n"
     ]
    }
   ],
   "source": [
    "# Sorting\n",
    "\n",
    "list1.sort()                      # sort fuction doen't work on hetergogenous list\n",
    "print(list1.sort())               # prints none because it doen't return anything to print"
   ]
  },
  {
   "cell_type": "code",
   "execution_count": 28,
   "metadata": {},
   "outputs": [
    {
     "name": "stdout",
     "output_type": "stream",
     "text": [
      "['1', '2', '0', 'a', 'b']\n",
      "['0', '1', '2', 'a', 'b']\n",
      "['1', '2', '0', 'a', 'b']\n",
      "['0', '1', '2', 'a', 'b']\n"
     ]
    }
   ],
   "source": [
    "list4 = ['1','2','0','a','b']\n",
    "\n",
    "print(list4)\n",
    "print(sorted(list4))             # It only prints sorted elements but actually doen't sort the list\n",
    "print(list4)\n",
    "\n",
    "list4.sort()                     # Actually sorts the list\n",
    "print(list4)                    "
   ]
  },
  {
   "cell_type": "code",
   "execution_count": 29,
   "metadata": {},
   "outputs": [
    {
     "name": "stdout",
     "output_type": "stream",
     "text": [
      "['0', '1', '2', 'a', 'b']\n",
      "['0', '1', '2', 'a']\n"
     ]
    }
   ],
   "source": [
    "# Deleting elements from the list\n",
    "\n",
    "print(list4)\n",
    "del list4[-1]\n",
    "print(list4)"
   ]
  },
  {
   "cell_type": "code",
   "execution_count": 47,
   "metadata": {
    "scrolled": true
   },
   "outputs": [
    {
     "name": "stdout",
     "output_type": "stream",
     "text": [
      "['0', 'a', 'new_item']\n"
     ]
    }
   ],
   "source": [
    "# Insert\n",
    "\n",
    "list4.insert(2,'new_item')    # Inserts new element at mentioned index\n",
    "print(list4)"
   ]
  },
  {
   "cell_type": "code",
   "execution_count": 48,
   "metadata": {},
   "outputs": [
    {
     "name": "stdout",
     "output_type": "stream",
     "text": [
      "['0', 'a']\n"
     ]
    }
   ],
   "source": [
    "# Remove\n",
    "\n",
    "list4.remove('new_item')      # Removes the element, if found multiple then only first match will be removed\n",
    "print(list4)"
   ]
  },
  {
   "cell_type": "code",
   "execution_count": 45,
   "metadata": {},
   "outputs": [
    {
     "name": "stdout",
     "output_type": "stream",
     "text": [
      "2\n",
      "['0', 'a']\n"
     ]
    }
   ],
   "source": [
    "# Pop\n",
    "\n",
    "print(list4.pop(1))           # Removes and return the element at mentioned index\n",
    "print(list4)"
   ]
  },
  {
   "cell_type": "code",
   "execution_count": 50,
   "metadata": {},
   "outputs": [
    {
     "name": "stdout",
     "output_type": "stream",
     "text": [
      "1\n"
     ]
    }
   ],
   "source": [
    "# Index / Position in list\n",
    "\n",
    "pos = list4.index('a')      # Returns the index af an element\n",
    "print(pos)"
   ]
  },
  {
   "cell_type": "code",
   "execution_count": 1,
   "metadata": {},
   "outputs": [
    {
     "data": {
      "text/plain": [
       "1"
      ]
     },
     "execution_count": 1,
     "metadata": {},
     "output_type": "execute_result"
    }
   ],
   "source": [
    "# Count\n",
    "list1 = ['a','b','c'.'a','b','c']\n",
    "list1.count('a')             # Returns the number of times that element occured in a list"
   ]
  },
  {
   "cell_type": "code",
   "execution_count": 31,
   "metadata": {},
   "outputs": [
    {
     "data": {
      "text/plain": [
       "'\\nremove\\npop\\nclear\\nindex\\ncount\\nreverse\\ncopy\\n'"
      ]
     },
     "execution_count": 31,
     "metadata": {},
     "output_type": "execute_result"
    }
   ],
   "source": [
    "'''\n",
    "clear\n",
    "reverse\n",
    "copy\n",
    "'''"
   ]
  }
 ],
 "metadata": {
  "kernelspec": {
   "display_name": "Python 3",
   "language": "python",
   "name": "python3"
  },
  "language_info": {
   "codemirror_mode": {
    "name": "ipython",
    "version": 3
   },
   "file_extension": ".py",
   "mimetype": "text/x-python",
   "name": "python",
   "nbconvert_exporter": "python",
   "pygments_lexer": "ipython3",
   "version": "3.7.3"
  }
 },
 "nbformat": 4,
 "nbformat_minor": 2
}
