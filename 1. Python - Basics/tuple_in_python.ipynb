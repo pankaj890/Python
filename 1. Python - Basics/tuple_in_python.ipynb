{
 "cells": [
  {
   "cell_type": "markdown",
   "metadata": {},
   "source": [
    "# Tuples "
   ]
  },
  {
   "cell_type": "code",
   "execution_count": 1,
   "metadata": {},
   "outputs": [],
   "source": [
    "# Mutable - Which can be modified - e.g. Lists\n",
    "# Immutable - Whcih can't be odified - e.g. Tuples"
   ]
  },
  {
   "cell_type": "code",
   "execution_count": 17,
   "metadata": {},
   "outputs": [],
   "source": [
    "tup1 = ()\n",
    "tup2 = (99,)\n",
    "tup3 = ('he','hello')\n",
    "tup4 = (1, 2.8, 'Hello')\n",
    "tup5 = ('Book',[1,2,3])\n",
    "tup6 = ((2,3,4),(1,2,'hi'))\n",
    "tup7 = ((1,2,3,(4,5,(7,8))),'a','b')"
   ]
  },
  {
   "cell_type": "code",
   "execution_count": 13,
   "metadata": {},
   "outputs": [
    {
     "data": {
      "text/plain": [
       "(1, 2, 'hi')"
      ]
     },
     "execution_count": 13,
     "metadata": {},
     "output_type": "execute_result"
    }
   ],
   "source": [
    "# Fetching elements\n",
    "tup5[0]\n",
    "tup6[1]"
   ]
  },
  {
   "cell_type": "code",
   "execution_count": 20,
   "metadata": {},
   "outputs": [
    {
     "name": "stdout",
     "output_type": "stream",
     "text": [
      "k\n",
      "3\n",
      "5\n"
     ]
    }
   ],
   "source": [
    "# Fetching nested tuples\n",
    "\n",
    "print(tup5[0][3])\n",
    "print(tup5[1][2])\n",
    "print(tup7[0][3][1])"
   ]
  },
  {
   "cell_type": "code",
   "execution_count": 21,
   "metadata": {},
   "outputs": [
    {
     "name": "stdout",
     "output_type": "stream",
     "text": [
      "('Book', [1, 2, 3])\n",
      "('Book', ['a', 2, 3])\n"
     ]
    }
   ],
   "source": [
    "# Changing Tuple Data\n",
    "# Tuple is immutable but if a tuple containing mutable element like a list, then we can update that particular list in tuple\n",
    "\n",
    "print(tup5)\n",
    "tup5[1][0] = 'a'\n",
    "print(tup5)"
   ]
  },
  {
   "cell_type": "code",
   "execution_count": 22,
   "metadata": {},
   "outputs": [],
   "source": [
    "# Deleting\n",
    "\n",
    "del tup1                  # Deleting complete Tuple is possible but not a particular element"
   ]
  },
  {
   "cell_type": "code",
   "execution_count": 28,
   "metadata": {},
   "outputs": [
    {
     "name": "stdout",
     "output_type": "stream",
     "text": [
      "((1, 2, 3, (4, 5, (7, 8))), 'a', 'b')\n",
      "('a', 'b')\n",
      "('a',)\n"
     ]
    }
   ],
   "source": [
    "# Slicing\n",
    "\n",
    "print(tup7[:3])\n",
    "print(tup7[1:])\n",
    "print(tup7[1:-1])"
   ]
  },
  {
   "cell_type": "code",
   "execution_count": 31,
   "metadata": {},
   "outputs": [
    {
     "name": "stdout",
     "output_type": "stream",
     "text": [
      "False\n",
      "True\n",
      "True\n",
      "True\n"
     ]
    }
   ],
   "source": [
    "# Membership test\n",
    "\n",
    "print(1 in tup7)\n",
    "print('Book' in tup5)\n",
    "print(99 in tup2)\n",
    "print(100 not in tup2)      # NOT IN"
   ]
  },
  {
   "cell_type": "code",
   "execution_count": 36,
   "metadata": {},
   "outputs": [
    {
     "name": "stdout",
     "output_type": "stream",
     "text": [
      "(1, 2, 3, (4, 5, (7, 8))) a b "
     ]
    }
   ],
   "source": [
    "# Iterating a Tuple\n",
    "\n",
    "for i in tup7:\n",
    "    print(i,end=' ')"
   ]
  },
  {
   "cell_type": "code",
   "execution_count": 39,
   "metadata": {},
   "outputs": [
    {
     "name": "stdout",
     "output_type": "stream",
     "text": [
      "1\n",
      "1\n"
     ]
    }
   ],
   "source": [
    "# Tuple Methods\n",
    "\n",
    "print(tup7.count('a'))\n",
    "print(tup7.index('a'))"
   ]
  }
 ],
 "metadata": {
  "kernelspec": {
   "display_name": "Python 3",
   "language": "python",
   "name": "python3"
  },
  "language_info": {
   "codemirror_mode": {
    "name": "ipython",
    "version": 3
   },
   "file_extension": ".py",
   "mimetype": "text/x-python",
   "name": "python",
   "nbconvert_exporter": "python",
   "pygments_lexer": "ipython3",
   "version": "3.7.3"
  }
 },
 "nbformat": 4,
 "nbformat_minor": 2
}
