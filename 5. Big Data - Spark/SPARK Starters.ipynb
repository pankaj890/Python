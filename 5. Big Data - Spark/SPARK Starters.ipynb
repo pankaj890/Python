{
 "cells": [
  {
   "cell_type": "code",
   "execution_count": 1,
   "metadata": {},
   "outputs": [],
   "source": [
    "import findspark              \n",
    "findspark.init()              # make pyspark IMPORTABLE as a regular library\n",
    "\n",
    "import pyspark\n",
    "import random\n",
    "\n",
    "sc = pyspark.SparkContext(appName=\"Pi\")        # Only single context can exist at once"
   ]
  },
  {
   "cell_type": "markdown",
   "metadata": {},
   "source": [
    "### Single RDD"
   ]
  },
  {
   "cell_type": "code",
   "execution_count": 17,
   "metadata": {},
   "outputs": [],
   "source": [
    "my_rdd_num = sc.parallelize(range(100))"
   ]
  },
  {
   "cell_type": "code",
   "execution_count": 20,
   "metadata": {},
   "outputs": [
    {
     "data": {
      "text/plain": [
       "['MOMDAY', 'TUESDAY']"
      ]
     },
     "execution_count": 20,
     "metadata": {},
     "output_type": "execute_result"
    }
   ],
   "source": [
    "days = 'MOMDAY TUESDAY WEDNESDAY THURSDAY FRIDAY SATURDAY SUNDAY'\n",
    "my_rdd_str = sc.parallelize(days.split(' '))\n",
    "my_rdd_str.take(2)"
   ]
  },
  {
   "cell_type": "markdown",
   "metadata": {},
   "source": [
    "### Pair RDD"
   ]
  },
  {
   "cell_type": "code",
   "execution_count": 38,
   "metadata": {},
   "outputs": [
    {
     "data": {
      "text/plain": [
       "[('JAN', 'W1:10.0'),\n",
       " ('JAN', 'W2:12.0'),\n",
       " ('JAN', 'W3:15.0'),\n",
       " ('JAN', 'W4:16.0'),\n",
       " ('FEB', 'W1:18.5'),\n",
       " ('FEB', 'W2:20.5'),\n",
       " ('FEB', 'W3:20.5'),\n",
       " ('FEB', 'W4:21.4'),\n",
       " ('MAR', 'W1:25.0'),\n",
       " ('MAR', 'W2:28.9')]"
      ]
     },
     "execution_count": 38,
     "metadata": {},
     "output_type": "execute_result"
    }
   ],
   "source": [
    "# Tuple of Tuples\n",
    "# sc.parallelize((key, value))\n",
    "\n",
    "tup = ((\"JAN\",\"W1:10.0\"),(\"JAN\",\"W2:12.0\"),(\"JAN\",\"W3:15.0\"),(\"JAN\",\"W4:16.0\"),(\"FEB\",\"W1:18.5\"),(\"FEB\",\"W2:20.5\"),(\"FEB\",\"W3:20.5\"),(\"FEB\",\"W4:21.4\"),(\"MAR\",\"W1:25.0\"),(\"MAR\",\"W2:28.9\"),(\"MAR\",\"W3:32.0\"),(\"MAR\",\"W4:33.0\"),(\"APR\",\"W1:38.0\"),(\"APR\",\"W2:40.0\"))\n",
    "\n",
    "pair_rdd = sc.parallelize(tup)\n",
    "\n",
    "#pair_rdd.lookup(\"FEB\")\n",
    "pair_rdd.take(10)"
   ]
  },
  {
   "cell_type": "code",
   "execution_count": 6,
   "metadata": {
    "scrolled": true
   },
   "outputs": [
    {
     "name": "stdout",
     "output_type": "stream",
     "text": [
      "[0, 1, 2, 3, 4, 5, 6, 7, 8, 9]\n",
      "[0, 1, 2, 3, 4, 5, 6, 7, 8, 9, 10, 11, 12, 13, 14, 15, 16, 17, 18, 19, 20, 21, 22, 23, 24, 25, 26, 27, 28, 29, 30, 31, 32, 33, 34, 35, 36, 37, 38, 39, 40, 41, 42, 43, 44, 45, 46, 47, 48, 49, 50, 51, 52, 53, 54, 55, 56, 57, 58, 59, 60, 61, 62, 63, 64, 65, 66, 67, 68, 69, 70, 71, 72, 73, 74, 75, 76, 77, 78, 79, 80, 81, 82, 83, 84, 85, 86, 87, 88, 89, 90, 91, 92, 93, 94, 95, 96, 97, 98, 99]\n"
     ]
    }
   ],
   "source": [
    "print(my_rdd.take(10))    # Print first 10 elements in RDD\n",
    "print(my_rdd.collect())   # Print every element in RDD"
   ]
  },
  {
   "cell_type": "code",
   "execution_count": 8,
   "metadata": {},
   "outputs": [
    {
     "data": {
      "text/plain": [
       "4"
      ]
     },
     "execution_count": 8,
     "metadata": {},
     "output_type": "execute_result"
    }
   ],
   "source": [
    "# Number of Partitions in a RDD\n",
    "\n",
    "my_rdd.getNumPartitions()"
   ]
  },
  {
   "cell_type": "code",
   "execution_count": 12,
   "metadata": {},
   "outputs": [
    {
     "data": {
      "text/plain": [
       "b'(4) PythonRDD[3] at collect at <ipython-input-4-3b650c514189>:2 []\\n |  ParallelCollectionRDD[0] at parallelize at PythonRDD.scala:195 []'"
      ]
     },
     "execution_count": 12,
     "metadata": {},
     "output_type": "execute_result"
    }
   ],
   "source": [
    "# Lineage of a RDD, how it was built\n",
    "my_rdd.toDebugString()"
   ]
  },
  {
   "cell_type": "markdown",
   "metadata": {},
   "source": [
    "### Single RDD Transformations"
   ]
  },
  {
   "cell_type": "code",
   "execution_count": 13,
   "metadata": {},
   "outputs": [],
   "source": [
    "single_rdd = sc.parallelize([1,1,2,3,4,4,5,5,5])"
   ]
  },
  {
   "cell_type": "code",
   "execution_count": 15,
   "metadata": {},
   "outputs": [
    {
     "data": {
      "text/plain": [
       "[4, 1, 5, 2, 3]"
      ]
     },
     "execution_count": 15,
     "metadata": {},
     "output_type": "execute_result"
    }
   ],
   "source": [
    "# Finding unique elements in RDD\n",
    "\n",
    "single_rdd.distinct().take(10)"
   ]
  },
  {
   "cell_type": "code",
   "execution_count": null,
   "metadata": {},
   "outputs": [],
   "source": []
  }
 ],
 "metadata": {
  "kernelspec": {
   "display_name": "Python 3",
   "language": "python",
   "name": "python3"
  },
  "language_info": {
   "codemirror_mode": {
    "name": "ipython",
    "version": 3
   },
   "file_extension": ".py",
   "mimetype": "text/x-python",
   "name": "python",
   "nbconvert_exporter": "python",
   "pygments_lexer": "ipython3",
   "version": "3.7.3"
  }
 },
 "nbformat": 4,
 "nbformat_minor": 2
}
