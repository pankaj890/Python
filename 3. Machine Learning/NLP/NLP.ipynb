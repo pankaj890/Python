{
 "cells": [
  {
   "cell_type": "code",
   "execution_count": 139,
   "metadata": {},
   "outputs": [],
   "source": [
    "import nltk"
   ]
  },
  {
   "cell_type": "code",
   "execution_count": 140,
   "metadata": {},
   "outputs": [],
   "source": [
    "para = \"\"\"Thank you all so very much. Thank you to the Academy. \n",
    "               Thank you to all of you in this room. I have to congratulate \n",
    "               the other incredible nominees this year. The Revenant was \n",
    "               the product of the tireless efforts of an unbelievable cast\n",
    "               and crew. First off, to my brother in this endeavor, Mr. Tom \n",
    "               Hardy. Tom, your talent on screen can only be surpassed by \n",
    "               your friendship off screen … thank you for creating a t\n",
    "               ranscendent cinematic experience. Thank you to everybody at \n",
    "               Fox and New Regency … my entire team. I have to thank \n",
    "               everyone from the very onset of my career … To my parents; \n",
    "               none of this would be possible without you. And to my \n",
    "               friends, I love you dearly; you know who you are. And lastly,\n",
    "               I just want to say this: Making The Revenant was about\n",
    "               man's relationship to the natural world. A world that we\n",
    "               collectively felt in 2015 as the hottest year in recorded\n",
    "               history. Our production needed to move to the southern\n",
    "               tip of this planet just to be able to find snow. Climate\n",
    "               change is real, it is happening right now. It is the most\n",
    "               urgent threat facing our entire species, and we need to work\n",
    "               collectively together and stop procrastinating. We need to\n",
    "               support leaders around the world who do not speak for the \n",
    "               big polluters, but who speak for all of humanity, for the\n",
    "               indigenous people of the world, for the billions and \n",
    "               billions of underprivileged people out there who would be\n",
    "               most affected by this. For our children’s children, and \n",
    "               for those people out there whose voices have been drowned\n",
    "               out by the politics of greed. I thank you all for this \n",
    "               amazing award tonight. Let us not take this planet for \n",
    "               granted. I do not take tonight for granted. Thank you so very much.\"\"\""
   ]
  },
  {
   "cell_type": "markdown",
   "metadata": {},
   "source": [
    "### Tokenization"
   ]
  },
  {
   "cell_type": "code",
   "execution_count": 141,
   "metadata": {},
   "outputs": [],
   "source": [
    "# Sentence Tokenizer\n",
    "sentences = nltk.sent_tokenize(para)\n",
    "\n",
    "# Word Tokenizer\n",
    "para_words = nltk.word_tokenize(para)"
   ]
  },
  {
   "cell_type": "markdown",
   "metadata": {},
   "source": [
    "### Stemming"
   ]
  },
  {
   "cell_type": "code",
   "execution_count": 142,
   "metadata": {},
   "outputs": [],
   "source": [
    "from nltk.stem import PorterStemmer\n",
    "from nltk.corpus import stopwords  "
   ]
  },
  {
   "cell_type": "code",
   "execution_count": 143,
   "metadata": {},
   "outputs": [],
   "source": [
    "stemmer = PorterStemmer()"
   ]
  },
  {
   "cell_type": "code",
   "execution_count": 144,
   "metadata": {
    "scrolled": true
   },
   "outputs": [],
   "source": [
    "stem_sent = sentences\n",
    "for i in range(len(stem_sent)):\n",
    "    sent_words = nltk.word_tokenize(stem_sent[i])\n",
    "    stem_words = [stemmer.stem(word) for word in sent_words if word not in (stopwords.words('English'))]\n",
    "    stem_sent[i] = ' '.join(stem_words)"
   ]
  },
  {
   "cell_type": "markdown",
   "metadata": {},
   "source": [
    "### Lemmatization"
   ]
  },
  {
   "cell_type": "code",
   "execution_count": 145,
   "metadata": {},
   "outputs": [],
   "source": [
    "from nltk.stem import WordNetLemmatizer"
   ]
  },
  {
   "cell_type": "code",
   "execution_count": 146,
   "metadata": {},
   "outputs": [],
   "source": [
    "lemmatizer = WordNetLemmatizer()"
   ]
  },
  {
   "cell_type": "code",
   "execution_count": 147,
   "metadata": {
    "scrolled": true
   },
   "outputs": [],
   "source": [
    "lemm_sent\n",
    "\n",
    "for i in range(len(sentences)):\n",
    "    sent_words = nltk.word_tokenize(sentences[i])\n",
    "    lemm_words = [lemmatizer.lemmatize(word) for word in sent_words if word not in stopwords.words('English')]\n",
    "    lemm_sent.append(' '.join(lemm_words))"
   ]
  },
  {
   "cell_type": "code",
   "execution_count": 149,
   "metadata": {},
   "outputs": [
    {
     "name": "stdout",
     "output_type": "stream",
     "text": [
      "SENT_SENT :  ['thank much .', 'thank academi .', 'thank room .', 'I congratul incred nomine year .', 'the reven product tireless effort unbeliev cast crew .', 'first , brother endeavor , mr. tom hardi .', 'tom , talent screen surpass friendship screen … thank creat ranscend cinemat experi .', 'thank everybodi fox new regenc … entir team .', 'I thank everyon onset career … To parent ; none would possibl without .', 'and friend , I love dearli ; know .', \"and lastli , I want say : make the reven man 's relationship natur world .\", 'A world collect felt 2015 hottest year record histori .', 'our product need move southern tip planet abl find snow .', 'climat chang real , happen right .', 'It urgent threat face entir speci , need work collect togeth stop procrastin .', 'We need support leader around world speak big pollut , speak human , indigen peopl world , billion billion underprivileg peopl would affect .', 'for children ’ children , peopl whose voic drown polit greed .', 'I thank amaz award tonight .', 'let us take planet grant .', 'I take tonight grant .', 'thank much .']\n",
      " \n",
      "LEMM_SENT :  ['thank much .', 'thank academi .', 'thank room .', 'I congratul incred nomine year .', 'reven product tireless effort unbeliev cast crew .', 'first , brother endeavor , mr. tom hardi .', 'tom , talent screen surpass friendship screen … thank creat ranscend cinemat experi .', 'thank everybodi fox new regenc … entir team .', 'I thank everyon onset career … To parent ; none would possibl without .', 'friend , I love dearli ; know .', \"lastli , I want say : make reven man 's relationship natur world .\", 'A world collect felt 2015 hottest year record histori .', 'product need move southern tip planet abl find snow .', 'climat chang real , happen right .', 'It urgent threat face entir speci , need work collect togeth stop procrastin .', 'We need support leader around world speak big pollut , speak human , indigen peopl world , billion billion underprivileg peopl would affect .', 'child ’ child , peopl whose voic drown polit greed .', 'I thank amaz award tonight .', 'let u take planet grant .', 'I take tonight grant .', 'thank much .', 'thank much .', 'thank academi .', 'thank room .', 'I congratul incred nomine year .', 'reven product tireless effort unbeliev cast crew .', 'first , brother endeavor , mr. tom hardi .', 'tom , talent screen surpass friendship screen … thank creat ranscend cinemat experi .', 'thank everybodi fox new regenc … entir team .', 'I thank everyon onset career … To parent ; none would possibl without .', 'friend , I love dearli ; know .', \"lastli , I want say : make reven man 's relationship natur world .\", 'A world collect felt 2015 hottest year record histori .', 'product need move southern tip planet abl find snow .', 'climat chang real , happen right .', 'It urgent threat face entir speci , need work collect togeth stop procrastin .', 'We need support leader around world speak big pollut , speak human , indigen peopl world , billion billion underprivileg peopl would affect .', 'child ’ child , peopl whose voic drown polit greed .', 'I thank amaz award tonight .', 'let u take planet grant .', 'I take tonight grant .', 'thank much .']\n"
     ]
    }
   ],
   "source": [
    "print('SENT_SENT : ', stem_sent)\n",
    "print(' ')\n",
    "print('LEMM_SENT : ', lemm_sent)"
   ]
  },
  {
   "cell_type": "code",
   "execution_count": null,
   "metadata": {},
   "outputs": [],
   "source": []
  }
 ],
 "metadata": {
  "kernelspec": {
   "display_name": "Python 3",
   "language": "python",
   "name": "python3"
  },
  "language_info": {
   "codemirror_mode": {
    "name": "ipython",
    "version": 3
   },
   "file_extension": ".py",
   "mimetype": "text/x-python",
   "name": "python",
   "nbconvert_exporter": "python",
   "pygments_lexer": "ipython3",
   "version": "3.7.3"
  }
 },
 "nbformat": 4,
 "nbformat_minor": 2
}
