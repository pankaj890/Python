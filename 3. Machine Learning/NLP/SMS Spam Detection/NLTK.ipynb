{
 "cells": [
  {
   "cell_type": "markdown",
   "metadata": {},
   "source": [
    "### Stemmer"
   ]
  },
  {
   "cell_type": "code",
   "execution_count": 3,
   "metadata": {},
   "outputs": [],
   "source": [
    "from nltk.stem import PorterStemmer, LancasterStemmer, SnowballStemmer"
   ]
  },
  {
   "cell_type": "code",
   "execution_count": 7,
   "metadata": {},
   "outputs": [],
   "source": [
    "porter_stemmer = PorterStemmer()\n",
    "lancaster_stemmer = LancasterStemmer()\n",
    "snowball_stemmer = SnowballStemmer('english')"
   ]
  },
  {
   "cell_type": "code",
   "execution_count": 20,
   "metadata": {
    "scrolled": true
   },
   "outputs": [
    {
     "name": "stdout",
     "output_type": "stream",
     "text": [
      "porter_stemmer    : cri\n",
      "lancaster_stemmer : cry\n",
      "snowball_stemmer  : cri\n",
      "\n",
      "\n",
      "porter_stemmer    : buse\n",
      "lancaster_stemmer : bus\n",
      "snowball_stemmer  : buse\n",
      "\n",
      "\n",
      "porter_stemmer    : studi\n",
      "lancaster_stemmer : study\n",
      "snowball_stemmer  : studi\n"
     ]
    }
   ],
   "source": [
    "print('porter_stemmer    :', porter_stemmer.stem('crying'))\n",
    "print('lancaster_stemmer :', lancaster_stemmer.stem('crying'))\n",
    "print('snowball_stemmer  :', snowball_stemmer.stem('crying'))\n",
    "\n",
    "print('\\n')\n",
    "\n",
    "print('porter_stemmer    :', porter_stemmer.stem('buses'))\n",
    "print('lancaster_stemmer :', lancaster_stemmer.stem('buses'))\n",
    "print('snowball_stemmer  :', snowball_stemmer.stem('buses'))\n",
    "\n",
    "print('\\n')\n",
    "\n",
    "print('porter_stemmer    :', porter_stemmer.stem('studies'))\n",
    "print('lancaster_stemmer :', lancaster_stemmer.stem('studies'))\n",
    "print('snowball_stemmer  :', snowball_stemmer.stem('studies'))"
   ]
  },
  {
   "cell_type": "markdown",
   "metadata": {},
   "source": [
    "### Lemmatizer"
   ]
  },
  {
   "cell_type": "code",
   "execution_count": 2,
   "metadata": {},
   "outputs": [],
   "source": [
    "from nltk.stem import WordNetLemmatizer"
   ]
  },
  {
   "cell_type": "code",
   "execution_count": 10,
   "metadata": {},
   "outputs": [],
   "source": [
    "word_net_lemm = WordNetLemmatizer()"
   ]
  },
  {
   "cell_type": "code",
   "execution_count": 19,
   "metadata": {},
   "outputs": [
    {
     "name": "stdout",
     "output_type": "stream",
     "text": [
      "word_net_lemm :  cry\n",
      "word_net_lemm :  bus\n",
      "word_net_lemm :  study\n"
     ]
    }
   ],
   "source": [
    "print('word_net_lemm : ', word_net_lemm.lemmatize('crying'))\n",
    "print('word_net_lemm : ', word_net_lemm.lemmatize('buses'))\n",
    "print('word_net_lemm : ', word_net_lemm.lemmatize('studies'))"
   ]
  },
  {
   "cell_type": "code",
   "execution_count": null,
   "metadata": {},
   "outputs": [],
   "source": []
  }
 ],
 "metadata": {
  "kernelspec": {
   "display_name": "Python 3",
   "language": "python",
   "name": "python3"
  },
  "language_info": {
   "codemirror_mode": {
    "name": "ipython",
    "version": 3
   },
   "file_extension": ".py",
   "mimetype": "text/x-python",
   "name": "python",
   "nbconvert_exporter": "python",
   "pygments_lexer": "ipython3",
   "version": "3.7.3"
  }
 },
 "nbformat": 4,
 "nbformat_minor": 2
}
