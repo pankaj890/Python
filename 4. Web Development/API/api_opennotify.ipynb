{
 "cells": [
  {
   "cell_type": "code",
   "execution_count": 1,
   "metadata": {},
   "outputs": [],
   "source": [
    "import requests"
   ]
  },
  {
   "cell_type": "code",
   "execution_count": 8,
   "metadata": {},
   "outputs": [],
   "source": [
    "request = requests.get('http://api.open-notify.org')\n",
    "print(request.text)"
   ]
  },
  {
   "cell_type": "code",
   "execution_count": 11,
   "metadata": {},
   "outputs": [
    {
     "name": "stdout",
     "output_type": "stream",
     "text": [
      "200\n"
     ]
    }
   ],
   "source": [
    "print(request.status_code)     # 200 - successfull request"
   ]
  },
  {
   "cell_type": "code",
   "execution_count": 13,
   "metadata": {},
   "outputs": [
    {
     "name": "stdout",
     "output_type": "stream",
     "text": [
      "<Response [404]>\n"
     ]
    }
   ],
   "source": [
    "request_fake = requests.get('http://api.open-notify.org/fake-endpoint')\n",
    "print(request_fake)    # 404 - Page not found"
   ]
  },
  {
   "cell_type": "code",
   "execution_count": 16,
   "metadata": {},
   "outputs": [
    {
     "name": "stdout",
     "output_type": "stream",
     "text": [
      "{\"message\": \"success\", \"people\": [{\"name\": \"Alexey Ovchinin\", \"craft\": \"ISS\"}, {\"name\": \"Nick Hague\", \"craft\": \"ISS\"}, {\"name\": \"Christina Koch\", \"craft\": \"ISS\"}, {\"name\": \"Alexander Skvortsov\", \"craft\": \"ISS\"}, {\"name\": \"Luca Parmitano\", \"craft\": \"ISS\"}, {\"name\": \"Andrew Morgan\", \"craft\": \"ISS\"}], \"number\": 6}\n"
     ]
    }
   ],
   "source": [
    "people = requests.get('http://api.open-notify.org/astros.json')       # API astros.json - returns people info in Space\n",
    "print(people.text)"
   ]
  },
  {
   "cell_type": "code",
   "execution_count": 17,
   "metadata": {},
   "outputs": [
    {
     "name": "stdout",
     "output_type": "stream",
     "text": [
      "{'message': 'success', 'people': [{'name': 'Alexey Ovchinin', 'craft': 'ISS'}, {'name': 'Nick Hague', 'craft': 'ISS'}, {'name': 'Christina Koch', 'craft': 'ISS'}, {'name': 'Alexander Skvortsov', 'craft': 'ISS'}, {'name': 'Luca Parmitano', 'craft': 'ISS'}, {'name': 'Andrew Morgan', 'craft': 'ISS'}], 'number': 6}\n"
     ]
    }
   ],
   "source": [
    "people_json  = people.json()\n",
    "print(people_json)"
   ]
  },
  {
   "cell_type": "code",
   "execution_count": 22,
   "metadata": {},
   "outputs": [
    {
     "name": "stdout",
     "output_type": "stream",
     "text": [
      "Number of people in space: 6\n"
     ]
    }
   ],
   "source": [
    "#To print the number of people in space\n",
    "print(\"Number of people in space:\",people_json['number'])"
   ]
  },
  {
   "cell_type": "code",
   "execution_count": 26,
   "metadata": {},
   "outputs": [
    {
     "name": "stdout",
     "output_type": "stream",
     "text": [
      "Alexey Ovchinin\n",
      "Nick Hague\n",
      "Christina Koch\n",
      "Alexander Skvortsov\n",
      "Luca Parmitano\n",
      "Andrew Morgan\n"
     ]
    }
   ],
   "source": [
    "#To print the names of people in space using a for loop\n",
    "for p in people_json['people']:\n",
    "    print(p['name'])"
   ]
  },
  {
   "cell_type": "markdown",
   "metadata": {},
   "source": [
    "# Datamuse - Word finder"
   ]
  },
  {
   "cell_type": "markdown",
   "metadata": {},
   "source": [
    "### Passing parameters to the url string, also know as query parameters"
   ]
  },
  {
   "cell_type": "code",
   "execution_count": 29,
   "metadata": {},
   "outputs": [],
   "source": [
    "# Actual URL = https://api.datamuse.com/words?rel_rhy=jingle\n",
    "\n",
    "parameter = {\"rel_rhy\":\"jingle\"}\n",
    "req_words = requests.get('https://api.datamuse.com/words',parameter)"
   ]
  },
  {
   "cell_type": "code",
   "execution_count": 35,
   "metadata": {},
   "outputs": [
    {
     "name": "stdout",
     "output_type": "stream",
     "text": [
      "single\n",
      "mingle\n",
      "shingle\n"
     ]
    }
   ],
   "source": [
    "rhyme_json = req_words.json()\n",
    "\n",
    "# Fetch first 3 words similar to the word 'jingle'\n",
    "for i in rhyme_json[0:3]:\n",
    "     print(i['word'])"
   ]
  }
 ],
 "metadata": {
  "kernelspec": {
   "display_name": "Python 3",
   "language": "python",
   "name": "python3"
  },
  "language_info": {
   "codemirror_mode": {
    "name": "ipython",
    "version": 3
   },
   "file_extension": ".py",
   "mimetype": "text/x-python",
   "name": "python",
   "nbconvert_exporter": "python",
   "pygments_lexer": "ipython3",
   "version": "3.7.3"
  }
 },
 "nbformat": 4,
 "nbformat_minor": 2
}
