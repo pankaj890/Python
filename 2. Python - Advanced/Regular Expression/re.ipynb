{
 "cells": [
  {
   "cell_type": "code",
   "execution_count": 9,
   "metadata": {},
   "outputs": [
    {
     "data": {
      "text/plain": [
       "'\\n\\\\   Used to drop the special meaning of character\\n    following it (discussed below)\\n[]  Represent a character class\\n^   Matches the beginning\\n$   Matches the end\\n.   Matches any character except newline\\n?   Matches zero or one occurrence.\\n|   Means OR (Matches with any of the characters\\n    separated by it.\\n*   Any number of occurrences (including 0 occurrences)\\n+   One ore more occurrences\\n{}  Indicate number of occurrences of a preceding RE \\n    to match.\\n()  Enclose a group of REs\\n\\n\\n\\\\d   Matches any decimal digit, this is equivalent\\n     to the set class [0-9].\\n\\\\D   Matches any non-digit character.\\n\\\\s   Matches any whitespace character.\\n\\\\S   Matches any non-whitespace character\\n\\\\w   Matches any alphanumeric character, this is equivalent to the class [a-zA-Z0-9_].\\n\\\\W   Matches any non-alphanumeric character\\n'"
      ]
     },
     "execution_count": 9,
     "metadata": {},
     "output_type": "execute_result"
    }
   ],
   "source": [
    "'''\n",
    "\\   Used to drop the special meaning of character\n",
    "    following it (discussed below)\n",
    "[]  Represent a character class\n",
    "^   Matches the beginning\n",
    "$   Matches the end\n",
    ".   Matches any character except newline\n",
    "?   Matches zero or one occurrence.\n",
    "|   Means OR (Matches with any of the characters\n",
    "    separated by it.\n",
    "*   Any number of occurrences (including 0 occurrences)\n",
    "+   One ore more occurrences\n",
    "{}  Indicate number of occurrences of a preceding RE \n",
    "    to match.\n",
    "()  Enclose a group of REs\n",
    "\n",
    "\n",
    "\\d   Matches any decimal digit, this is equivalent\n",
    "     to the set class [0-9].\n",
    "\\D   Matches any non-digit character.\n",
    "\\s   Matches any whitespace character.\n",
    "\\S   Matches any non-whitespace character\n",
    "\\w   Matches any alphanumeric character, this is equivalent to the class [a-zA-Z0-9_].\n",
    "\\W   Matches any non-alphanumeric character\n",
    "'''"
   ]
  },
  {
   "cell_type": "code",
   "execution_count": 10,
   "metadata": {},
   "outputs": [],
   "source": [
    "import re "
   ]
  },
  {
   "cell_type": "markdown",
   "metadata": {},
   "source": [
    "#### Find Small Letters from a strings "
   ]
  },
  {
   "cell_type": "code",
   "execution_count": 37,
   "metadata": {},
   "outputs": [
    {
     "name": "stdout",
     "output_type": "stream",
     "text": [
      "['y', 'e', 's', 'a', 'i', 'd', 'r', 'i', 'b', 'e', 'n', 's', 'o', 'n', 't', 'a', 'r', 'k']\n"
     ]
    }
   ],
   "source": [
    "# compile() creates regular expression character class [a-e],  which is equivalent to [abcde]. \n",
    "# class [abcde...z] will match with string with 'a', 'b', 'c', .... ,'z'\n",
    "\n",
    "p = re.compile('[a-z]')\n",
    "\n",
    "test_str = \"Aye, said Mr. Gibenson Stark\"\n",
    "\n",
    "# findall() searches for the Regular Expression and return a list upon finding \n",
    "print(p.findall(test_str))"
   ]
  },
  {
   "cell_type": "markdown",
   "metadata": {},
   "source": [
    "#### Find Capital Letters from a strings "
   ]
  },
  {
   "cell_type": "code",
   "execution_count": 38,
   "metadata": {},
   "outputs": [
    {
     "name": "stdout",
     "output_type": "stream",
     "text": [
      "['A', 'M', 'G', 'S']\n"
     ]
    }
   ],
   "source": [
    "# class of [A,B,C...Z]\n",
    "\n",
    "p = re.compile('[A-Z]')\n",
    "\n",
    "print(p.findall(test_str))"
   ]
  },
  {
   "cell_type": "markdown",
   "metadata": {},
   "source": [
    "#### Find numbers from alphanumeric strings "
   ]
  },
  {
   "cell_type": "code",
   "execution_count": 36,
   "metadata": {},
   "outputs": [
    {
     "name": "stdout",
     "output_type": "stream",
     "text": [
      "['1', '2', '3']\n"
     ]
    }
   ],
   "source": [
    "alpha_num = 'a1b2c3'\n",
    "\n",
    "p = re.compile('[1-9]')\n",
    "\n",
    "print(p.findall(alpha_num))"
   ]
  },
  {
   "cell_type": "code",
   "execution_count": 39,
   "metadata": {},
   "outputs": [
    {
     "name": "stdout",
     "output_type": "stream",
     "text": [
      "['1', '1', '4', '1', '8', '8', '6']\n"
     ]
    }
   ],
   "source": [
    "# \\d is equivalent to [0-9]. \n",
    "\n",
    "p = re.compile('\\d') \n",
    "print(p.findall(\"I went to him at 11 A.M. on 4th July 1886\")) "
   ]
  },
  {
   "cell_type": "code",
   "execution_count": 40,
   "metadata": {},
   "outputs": [
    {
     "name": "stdout",
     "output_type": "stream",
     "text": [
      "['11', '4', '1886']\n"
     ]
    }
   ],
   "source": [
    "# \\d+ will match a group on [0-9], group of one or greater size \n",
    "\n",
    "p = re.compile('\\d+') \n",
    "print(p.findall(\"I went to him at 11 A.M. on 4th July 1886\")) "
   ]
  },
  {
   "cell_type": "code",
   "execution_count": 41,
   "metadata": {},
   "outputs": [
    {
     "name": "stdout",
     "output_type": "stream",
     "text": [
      "['H', 'e', 's', 'a', 'i', 'd', 'i', 'n', 's', 'o', 'm', 'e', '_', 'l', 'a', 'n', 'g']\n",
      "['I', 'went', 'to', 'him', 'at', '11', 'A', 'M', 'he', 'said', 'in', 'some_language']\n",
      "[' ', ' ', '*', '*', '*', ' ', ' ', '.']\n"
     ]
    }
   ],
   "source": [
    "# \\w is equivalent to [a-zA-Z0-9_]. \n",
    "p = re.compile('\\w') \n",
    "print(p.findall(\"He said * in some_lang.\")) \n",
    "  \n",
    "# \\w+ matches to group of alphanumeric character. \n",
    "p = re.compile('\\w+') \n",
    "print(p.findall(\"I went to him at 11 A.M., he said *** in some_language.\")) \n",
    "  \n",
    "# \\W matches to non alphanumeric characters. \n",
    "p = re.compile('\\W') \n",
    "print(p.findall(\"he said *** in some_language.\")) "
   ]
  },
  {
   "cell_type": "code",
   "execution_count": 42,
   "metadata": {},
   "outputs": [
    {
     "name": "stdout",
     "output_type": "stream",
     "text": [
      "['ab', 'abb', 'a', 'abbb']\n"
     ]
    }
   ],
   "source": [
    "# '*' replaces the no. of occurrence of a character\n",
    "# ‘a’ accompanied by any no. of ‘b’s, starting from 0\n",
    "\n",
    "p = re.compile('ab*') \n",
    "print(p.findall(\"ababbaabbb\")) "
   ]
  },
  {
   "cell_type": "markdown",
   "metadata": {},
   "source": [
    "#### split() Function "
   ]
  },
  {
   "cell_type": "code",
   "execution_count": 43,
   "metadata": {},
   "outputs": [
    {
     "name": "stdout",
     "output_type": "stream",
     "text": [
      "['Words', 'words', 'Words']\n",
      "['Word', 's', 'words', 'Words']\n",
      "['On', '12th', 'Jan', '2016', 'at', '11', '02', 'AM']\n",
      "['On ', 'th Jan ', ', at ', ':', ' AM']\n"
     ]
    }
   ],
   "source": [
    "from re import split \n",
    "  \n",
    "# '\\W+' denotes Non-Alphanumeric Characters or group of characters \n",
    "# Upon finding ',' or whitespace ' ', the split(), splits the string from that point \n",
    "print(split('\\W+', 'Words, words , Words')) \n",
    "print(split('\\W+', \"Word's words Words\")) \n",
    "  \n",
    "# Here ':', ' ' ,',' are not AlphaNumeric thus, the point where splitting occurs \n",
    "print(split('\\W+', 'On 12th Jan 2016, at 11:02 AM')) \n",
    "  \n",
    "# '\\d+' denotes Numeric Characters or group of characters \n",
    "# Splitting occurs at '12', '2016', '11', '02' only \n",
    "print(split('\\d+', 'On 12th Jan 2016, at 11:02 AM')) "
   ]
  },
  {
   "cell_type": "markdown",
   "metadata": {},
   "source": [
    "#### Substring  -  sub() and subn()"
   ]
  },
  {
   "cell_type": "code",
   "execution_count": 45,
   "metadata": {},
   "outputs": [
    {
     "name": "stdout",
     "output_type": "stream",
     "text": [
      "S~*ject has ~*er booked already\n",
      "S~*ject has Uber booked already\n",
      "S~*ject has Uber booked already\n",
      "Baked Beans & Spam\n"
     ]
    }
   ],
   "source": [
    "# re.sub(pattern, replace_with, string, count=0, flags=0)\n",
    "\n",
    "# Regular Expression pattern 'ub' matches the string at \"Subject\" and \"Uber\". \n",
    "# As the CASE has been ignored, using Flag, 'ub' should match twice with the string \n",
    "# Upon matching, 'ub' is replaced by '~*' in \"Subject\", and in \"Uber\", 'Ub' is replaced. \n",
    "print(re.sub('ub', '~*' , 'Subject has Uber booked already', flags = re.IGNORECASE)) \n",
    "  \n",
    "# Consider the Case Senstivity, 'Ub' in \"Uber\", will not be reaplced. \n",
    "print(re.sub('ub', '~*' , 'Subject has Uber booked already')) \n",
    "  \n",
    "# As count has been given value 1, the maximum times replacement occurs is 1 \n",
    "print(re.sub('ub', '~*' , 'Subject has Uber booked already', count=1, flags = re.IGNORECASE)) \n",
    "  \n",
    "# 'r' before the patter denotes RE, \\s is for start and end of a String. \n",
    "print(re.sub(r'\\sAND\\s', ' & ', 'Baked Beans And Spam', flags=re.IGNORECASE)) "
   ]
  },
  {
   "cell_type": "code",
   "execution_count": 48,
   "metadata": {},
   "outputs": [
    {
     "name": "stdout",
     "output_type": "stream",
     "text": [
      "('S~*ject has Uber booked already', 1)\n",
      "('S~*ject has ~*er booked already', 2)\n",
      "2\n",
      "S~*ject has ~*er booked already\n"
     ]
    }
   ],
   "source": [
    "# subn() is similar to sub() in all ways, except in its way to providing output\n",
    "# Returns a Tuple - (new_string, number of replacements)\n",
    "\n",
    "print(re.subn('ub', '~*' , 'Subject has Uber booked already')) \n",
    "t = re.subn('ub', '~*' , 'Subject has Uber booked already', flags = re.IGNORECASE) \n",
    "print(t) \n",
    "print(len(t)) \n",
    "  \n",
    "# This will give same output as sub() would have  \n",
    "print(t[0]) "
   ]
  },
  {
   "cell_type": "markdown",
   "metadata": {},
   "source": [
    "#### escape() "
   ]
  },
  {
   "cell_type": "code",
   "execution_count": 49,
   "metadata": {},
   "outputs": [
    {
     "name": "stdout",
     "output_type": "stream",
     "text": [
      "This\\ is\\ Awseome\\ even\\ 1\\ AM\n",
      "I\\ Asked\\ what\\ is\\ this\\ \\[a\\-9\\],\\ he\\ said\\ \\\t\\ \\^WoW\n"
     ]
    }
   ],
   "source": [
    "# escape() returns a string with BackSlash '\\', before every Non-Alphanumeric Character \n",
    "# In 1st case only ' ', is not alphanumeric \n",
    "# In 2nd case, ' ', caret '^', '-', '[]', '\\' are not alphanumeric \n",
    "\n",
    "print(re.escape(\"This is Awseome even 1 AM\")) \n",
    "print(re.escape(\"I Asked what is this [a-9], he said \\t ^WoW\")) "
   ]
  }
 ],
 "metadata": {
  "kernelspec": {
   "display_name": "Python 3",
   "language": "python",
   "name": "python3"
  },
  "language_info": {
   "codemirror_mode": {
    "name": "ipython",
    "version": 3
   },
   "file_extension": ".py",
   "mimetype": "text/x-python",
   "name": "python",
   "nbconvert_exporter": "python",
   "pygments_lexer": "ipython3",
   "version": "3.7.3"
  }
 },
 "nbformat": 4,
 "nbformat_minor": 2
}
